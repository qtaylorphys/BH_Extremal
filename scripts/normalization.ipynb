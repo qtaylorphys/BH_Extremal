{
 "cells": [
  {
   "cell_type": "code",
   "execution_count": 1,
   "id": "25d0118a",
   "metadata": {},
   "outputs": [
    {
     "name": "stdout",
     "output_type": "stream",
     "text": [
      "/Users/deyanmihaylov/Documents/Work/PrimordialBlackHoles\n"
     ]
    }
   ],
   "source": [
    "%cd .."
   ]
  },
  {
   "cell_type": "code",
   "execution_count": 2,
   "id": "da2d2eea-9f96-4ff2-bdb5-4ec7e0c12f5b",
   "metadata": {},
   "outputs": [],
   "source": [
    "# Import necessary modules\n",
    "import numpy as np\n",
    "from scipy.integrate import quad\n",
    "\n",
    "from distribution import P_c"
   ]
  },
  {
   "cell_type": "code",
   "execution_count": 3,
   "id": "af789c12",
   "metadata": {},
   "outputs": [
    {
     "name": "stdout",
     "output_type": "stream",
     "text": [
      "Normalization constant: A = 0.21129914651044093\n"
     ]
    }
   ],
   "source": [
    "# Initialize variables\n",
    "prev_integral = 0. # Previous integral value\n",
    "integral = 0. # Current integral value\n",
    "M = 1. # Start integration at mass M = 1.\n",
    "\n",
    "# Loop to calculate the normalization constant integral\n",
    "while True:\n",
    "    prev_integral = integral # Store previous integral value\n",
    "    # Calculate integral of P_c(M_ext) between mass M and mass M + 1\n",
    "    integral += quad(P_c, np.sqrt(M), np.sqrt(M+1), args=(1.))[0]\n",
    "    # Check if the difference between current and previous integrals is \n",
    "    # less than numerical precision\n",
    "    if integral - prev_integral < 1e-18: break\n",
    "    # Increment M by 1 for next iteration\n",
    "    M += 1\n",
    "\n",
    "print(f\"Normalization constant: A = {integral}\")"
   ]
  }
 ],
 "metadata": {
  "kernelspec": {
   "display_name": "Python 3 (ipykernel)",
   "language": "python",
   "name": "python3"
  },
  "language_info": {
   "codemirror_mode": {
    "name": "ipython",
    "version": 3
   },
   "file_extension": ".py",
   "mimetype": "text/x-python",
   "name": "python",
   "nbconvert_exporter": "python",
   "pygments_lexer": "ipython3",
   "version": "3.10.4"
  }
 },
 "nbformat": 4,
 "nbformat_minor": 5
}
