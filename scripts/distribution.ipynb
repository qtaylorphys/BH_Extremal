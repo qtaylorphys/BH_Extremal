{
 "cells": [
  {
   "cell_type": "code",
   "execution_count": null,
   "id": "25d0118a",
   "metadata": {},
   "outputs": [],
   "source": [
    "%cd .."
   ]
  },
  {
   "cell_type": "code",
   "execution_count": null,
   "id": "da2d2eea-9f96-4ff2-bdb5-4ec7e0c12f5b",
   "metadata": {},
   "outputs": [],
   "source": [
    "# Import necessary modules\n",
    "import numpy as np\n",
    "import gzip\n",
    "import matplotlib.pyplot as plt\n",
    "\n",
    "from pbh import PrimordialBlackHole\n",
    "from distribution import P_c"
   ]
  },
  {
   "cell_type": "code",
   "execution_count": null,
   "id": "f42c41ae",
   "metadata": {},
   "outputs": [],
   "source": [
    "# Define parameters\n",
    "spacetime = \"Kerr\"\n",
    "initial_mass = 5.\n",
    "final_mass = 1.\n",
    "initial_momentum = 0.\n",
    "save_path = False"
   ]
  },
  {
   "cell_type": "code",
   "execution_count": null,
   "id": "1dbaea6c",
   "metadata": {},
   "outputs": [],
   "source": [
    "# Create PrimordialBlackHole object\n",
    "pbh = PrimordialBlackHole(\n",
    "    spacetime,\n",
    "    initial_mass, final_mass,\n",
    "    initial_momentum,\n",
    "    save_path=save_path,\n",
    ")"
   ]
  },
  {
   "cell_type": "code",
   "execution_count": null,
   "id": "0d3c6f1e",
   "metadata": {},
   "outputs": [],
   "source": [
    "# Parameters of the study\n",
    "N_extremal = 2000000000 # Number of total extremal black holes\n",
    "N_per_batch = 100000000 # Number of extremal black holes per batch\n",
    "\n",
    "# Calculate the number of batches needed\n",
    "N_batch = int(np.ceil(N_extremal / N_per_batch))\n",
    "zfl = len(str(N_batch - 1))"
   ]
  },
  {
   "cell_type": "code",
   "execution_count": null,
   "id": "450425aa",
   "metadata": {},
   "outputs": [],
   "source": [
    "# Initialize variables\n",
    "n_total = 0\n",
    "i_batch = 0\n",
    "\n",
    "# Loop through batches\n",
    "for i in range(N_batch):\n",
    "    n = 0\n",
    "    batch_results = np.empty((N_per_batch, 8))\n",
    "\n",
    "    # Evolve black holes until desired number of extremal black holes reached\n",
    "    while n < N_per_batch:\n",
    "        pbh.evolve()\n",
    "        # Check if black hole becomes extremal\n",
    "        if pbh.extremal == 1:\n",
    "            batch_results[n, :] = np.array([\n",
    "                pbh.M_init,\n",
    "                pbh.J_init,\n",
    "                pbh.M_end,\n",
    "                pbh.J_end, \n",
    "                pbh.a_star_end,\n",
    "                pbh.n_steps,\n",
    "                pbh.extremal,\n",
    "                pbh.computation_time,\n",
    "            ])\n",
    "            n += 1\n",
    "            # Check if it's the last batch\n",
    "            if i == N_batch - 1:\n",
    "                if n_total + n == N_extremal:\n",
    "                    # Adjust batch size\n",
    "                    batch_results = batch_results[:n]\n",
    "                    break\n",
    "    n_total += n\n",
    "\n",
    "    # Save batch results\n",
    "    f = gzip.GzipFile(f\"data/extremal_batch_{i:0{zfl}}.npy.gz\", 'w')\n",
    "    np.save(file=f, arr=batch_results)"
   ]
  },
  {
   "cell_type": "code",
   "execution_count": null,
   "id": "6012cd8e",
   "metadata": {},
   "outputs": [],
   "source": [
    "# Load extremal masses\n",
    "extremal_masses = np.empty(N_extremal)\n",
    "for i in range(N_batch):\n",
    "    f = gzip.GzipFile(f\"data/extremal_batch_{i:0{zfl}}.npy.gz\", 'r')\n",
    "    data = np.load(f)\n",
    "    extremal_masses[\n",
    "        i * N_per_batch : i * N_per_batch + data.shape[0]\n",
    "    ] = data[:, 2]"
   ]
  },
  {
   "cell_type": "code",
   "execution_count": null,
   "id": "de877d92",
   "metadata": {},
   "outputs": [],
   "source": [
    "# Calculate histogram bins and data\n",
    "int_vals = np.sqrt(np.arange(1, 9 + 1e-10, 1))\n",
    "bins = np.array([])\n",
    "nums = (np.arange(2, 10, 1)**2)[::-1]\n",
    "\n",
    "for i in range(int_vals.size-1):\n",
    "    int_bins = np.linspace(\n",
    "        int_vals[i], int_vals[i+1], num=nums[i], endpoint=False,\n",
    "    )\n",
    "    bins = np.append(bins, int_bins)\n",
    "\n",
    "bins = np.append(bins, 3)\n",
    "\n",
    "hist = np.histogram(extremal_masses, bins=bins, density=True)"
   ]
  },
  {
   "cell_type": "code",
   "execution_count": null,
   "id": "58b14d7c",
   "metadata": {},
   "outputs": [],
   "source": [
    "# Calculate probability distribution\n",
    "xs = []\n",
    "results = []\n",
    "\n",
    "for i in range(int_vals.size-1):\n",
    "    int_bins = np.linspace(\n",
    "        int_vals[i], int_vals[i+1], num=100, endpoint=True,\n",
    "    )\n",
    "    int_bins[0] += 1e-8\n",
    "    int_bins[-1] -= 1e-8\n",
    "    xs.append(int_bins)\n",
    "    results.append(P_c(int_bins))"
   ]
  },
  {
   "cell_type": "code",
   "execution_count": null,
   "id": "7816c2f6",
   "metadata": {},
   "outputs": [],
   "source": [
    "# Plot histogram and probability distribution\n",
    "plt.figure()\n",
    "\n",
    "plt.bar(bins[:-1], hist[0], width=np.diff(bins), align=\"edge\")\n",
    "\n",
    "for x, y in zip(xs, results):\n",
    "    plt.plot(x, y, c='r')\n",
    "\n",
    "plt.yscale('log')\n",
    "\n",
    "plt.xlabel(r\"extremal mass $M_{\\mathrm{ext}}$\")\n",
    "plt.ylabel(r\"probability distribution $P_{\\mathrm{c}}(M_{\\mathrm{ext}})$\")\n",
    "\n",
    "plt.show()"
   ]
  }
 ],
 "metadata": {
  "kernelspec": {
   "display_name": "Python 3 (ipykernel)",
   "language": "python",
   "name": "python3"
  },
  "language_info": {
   "codemirror_mode": {
    "name": "ipython",
    "version": 3
   },
   "file_extension": ".py",
   "mimetype": "text/x-python",
   "name": "python",
   "nbconvert_exporter": "python",
   "pygments_lexer": "ipython3",
   "version": "3.10.4"
  }
 },
 "nbformat": 4,
 "nbformat_minor": 5
}
